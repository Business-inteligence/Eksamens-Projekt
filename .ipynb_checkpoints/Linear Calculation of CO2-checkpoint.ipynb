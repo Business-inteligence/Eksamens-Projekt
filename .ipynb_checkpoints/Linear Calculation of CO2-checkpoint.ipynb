{
 "cells": [
  {
   "cell_type": "code",
   "execution_count": 107,
   "metadata": {},
   "outputs": [],
   "source": [
    "import numpy as np\n",
    "from numpy import mean\n",
    "import pandas as pd\n",
    "from sklearn import model_selection\n",
    "from sklearn import linear_model\n",
    "from sklearn import preprocessing\n",
    "from sklearn import metrics as sm\n",
    "from matplotlib import pyplot as plot"
   ]
  },
  {
   "cell_type": "code",
   "execution_count": 125,
   "metadata": {},
   "outputs": [],
   "source": [
    "from tabpy.tabpy_tools.client import Client\n",
    "client = Client('http://localhost:9004/')\n",
    "# Connect to TabPy server using the client library\n",
    "connection = Client('http://localhost:9004/')"
   ]
  },
  {
   "cell_type": "code",
   "execution_count": 126,
   "metadata": {},
   "outputs": [
    {
     "data": {
      "text/html": [
       "<div>\n",
       "<style scoped>\n",
       "    .dataframe tbody tr th:only-of-type {\n",
       "        vertical-align: middle;\n",
       "    }\n",
       "\n",
       "    .dataframe tbody tr th {\n",
       "        vertical-align: top;\n",
       "    }\n",
       "\n",
       "    .dataframe thead th {\n",
       "        text-align: right;\n",
       "    }\n",
       "</style>\n",
       "<table border=\"1\" class=\"dataframe\">\n",
       "  <thead>\n",
       "    <tr style=\"text-align: right;\">\n",
       "      <th></th>\n",
       "      <th>Year</th>\n",
       "      <th>Month</th>\n",
       "      <th>Decimal Date</th>\n",
       "      <th>Carbon Dioxide (ppm)</th>\n",
       "      <th>Seasonally Adjusted CO2 (ppm)</th>\n",
       "      <th>Carbon Dioxide Fit (ppm)</th>\n",
       "      <th>Seasonally Adjusted CO2 Fit (ppm)</th>\n",
       "    </tr>\n",
       "  </thead>\n",
       "  <tbody>\n",
       "    <tr>\n",
       "      <th>2</th>\n",
       "      <td>1958</td>\n",
       "      <td>3</td>\n",
       "      <td>1958.2027</td>\n",
       "      <td>315.69</td>\n",
       "      <td>314.42</td>\n",
       "      <td>316.18</td>\n",
       "      <td>314.89</td>\n",
       "    </tr>\n",
       "    <tr>\n",
       "      <th>3</th>\n",
       "      <td>1958</td>\n",
       "      <td>4</td>\n",
       "      <td>1958.2877</td>\n",
       "      <td>317.45</td>\n",
       "      <td>315.15</td>\n",
       "      <td>317.30</td>\n",
       "      <td>314.98</td>\n",
       "    </tr>\n",
       "    <tr>\n",
       "      <th>4</th>\n",
       "      <td>1958</td>\n",
       "      <td>5</td>\n",
       "      <td>1958.3699</td>\n",
       "      <td>317.50</td>\n",
       "      <td>314.73</td>\n",
       "      <td>317.83</td>\n",
       "      <td>315.06</td>\n",
       "    </tr>\n",
       "    <tr>\n",
       "      <th>6</th>\n",
       "      <td>1958</td>\n",
       "      <td>7</td>\n",
       "      <td>1958.5370</td>\n",
       "      <td>315.86</td>\n",
       "      <td>315.17</td>\n",
       "      <td>315.87</td>\n",
       "      <td>315.21</td>\n",
       "    </tr>\n",
       "    <tr>\n",
       "      <th>7</th>\n",
       "      <td>1958</td>\n",
       "      <td>8</td>\n",
       "      <td>1958.6219</td>\n",
       "      <td>314.93</td>\n",
       "      <td>316.17</td>\n",
       "      <td>314.01</td>\n",
       "      <td>315.29</td>\n",
       "    </tr>\n",
       "    <tr>\n",
       "      <th>...</th>\n",
       "      <td>...</td>\n",
       "      <td>...</td>\n",
       "      <td>...</td>\n",
       "      <td>...</td>\n",
       "      <td>...</td>\n",
       "      <td>...</td>\n",
       "      <td>...</td>\n",
       "    </tr>\n",
       "    <tr>\n",
       "      <th>704</th>\n",
       "      <td>2016</td>\n",
       "      <td>9</td>\n",
       "      <td>2016.7077</td>\n",
       "      <td>401.01</td>\n",
       "      <td>404.52</td>\n",
       "      <td>401.33</td>\n",
       "      <td>404.85</td>\n",
       "    </tr>\n",
       "    <tr>\n",
       "      <th>705</th>\n",
       "      <td>2016</td>\n",
       "      <td>10</td>\n",
       "      <td>2016.7896</td>\n",
       "      <td>401.50</td>\n",
       "      <td>405.12</td>\n",
       "      <td>401.48</td>\n",
       "      <td>405.09</td>\n",
       "    </tr>\n",
       "    <tr>\n",
       "      <th>706</th>\n",
       "      <td>2016</td>\n",
       "      <td>11</td>\n",
       "      <td>2016.8743</td>\n",
       "      <td>403.64</td>\n",
       "      <td>405.92</td>\n",
       "      <td>403.08</td>\n",
       "      <td>405.34</td>\n",
       "    </tr>\n",
       "    <tr>\n",
       "      <th>707</th>\n",
       "      <td>2016</td>\n",
       "      <td>12</td>\n",
       "      <td>2016.9563</td>\n",
       "      <td>404.55</td>\n",
       "      <td>405.49</td>\n",
       "      <td>404.66</td>\n",
       "      <td>405.58</td>\n",
       "    </tr>\n",
       "    <tr>\n",
       "      <th>708</th>\n",
       "      <td>2017</td>\n",
       "      <td>1</td>\n",
       "      <td>2017.0411</td>\n",
       "      <td>406.07</td>\n",
       "      <td>406.04</td>\n",
       "      <td>405.87</td>\n",
       "      <td>405.83</td>\n",
       "    </tr>\n",
       "  </tbody>\n",
       "</table>\n",
       "<p>702 rows × 7 columns</p>\n",
       "</div>"
      ],
      "text/plain": [
       "     Year  Month  Decimal Date  Carbon Dioxide (ppm)  \\\n",
       "2    1958      3     1958.2027                315.69   \n",
       "3    1958      4     1958.2877                317.45   \n",
       "4    1958      5     1958.3699                317.50   \n",
       "6    1958      7     1958.5370                315.86   \n",
       "7    1958      8     1958.6219                314.93   \n",
       "..    ...    ...           ...                   ...   \n",
       "704  2016      9     2016.7077                401.01   \n",
       "705  2016     10     2016.7896                401.50   \n",
       "706  2016     11     2016.8743                403.64   \n",
       "707  2016     12     2016.9563                404.55   \n",
       "708  2017      1     2017.0411                406.07   \n",
       "\n",
       "     Seasonally Adjusted CO2 (ppm)  Carbon Dioxide Fit (ppm)  \\\n",
       "2                           314.42                    316.18   \n",
       "3                           315.15                    317.30   \n",
       "4                           314.73                    317.83   \n",
       "6                           315.17                    315.87   \n",
       "7                           316.17                    314.01   \n",
       "..                             ...                       ...   \n",
       "704                         404.52                    401.33   \n",
       "705                         405.12                    401.48   \n",
       "706                         405.92                    403.08   \n",
       "707                         405.49                    404.66   \n",
       "708                         406.04                    405.87   \n",
       "\n",
       "     Seasonally Adjusted CO2 Fit (ppm)  \n",
       "2                               314.89  \n",
       "3                               314.98  \n",
       "4                               315.06  \n",
       "6                               315.21  \n",
       "7                               315.29  \n",
       "..                                 ...  \n",
       "704                             404.85  \n",
       "705                             405.09  \n",
       "706                             405.34  \n",
       "707                             405.58  \n",
       "708                             405.83  \n",
       "\n",
       "[702 rows x 7 columns]"
      ]
     },
     "execution_count": 126,
     "metadata": {},
     "output_type": "execute_result"
    }
   ],
   "source": [
    "data_frame = pd.read_csv('data/archiveOG.csv')\n",
    "data_frame = data_frame.dropna()\n",
    "data_frame"
   ]
  },
  {
   "cell_type": "code",
   "execution_count": 172,
   "metadata": {},
   "outputs": [],
   "source": [
    "def CreateAvgDF(DataFrame):\n",
    "    years = list(range(1958,2018)) \n",
    "    avgCo2 = []\n",
    "   \n",
    "    for year in years:\n",
    "        TempDf = DataFrame.loc[data_frame['Year'] == year] \n",
    "   \n",
    "        value = TempDf['Carbon Dioxide Fit (ppm)'].mean()\n",
    "        avgCo2.append(value)\n",
    "    newDF = pd.DataFrame({'Years': years, 'AVG_CO2':avgCo2})\n",
    "    return newDF"
   ]
  },
  {
   "cell_type": "code",
   "execution_count": 173,
   "metadata": {},
   "outputs": [
    {
     "name": "stdout",
     "output_type": "stream",
     "text": [
      "1.5483503353088215 -2724.2122639905388\n"
     ]
    }
   ],
   "source": [
    "CO2AvgDF = CreateAvgDF(data_frame)\n",
    "features = np.array(CO2AvgDF['Years'])\n",
    "label = np.array(CO2AvgDF['AVG_CO2'])\n",
    "(features_train, features_test, label_train, label_test)= model_selection.train_test_split(features, label, test_size=0.3)\n",
    "features_train = features_train.reshape(-1,1)\n",
    "label_train = label_train.reshape(-1,1)\n",
    "features_test = features_test.reshape(-1,1)\n",
    "label_test = label_test.reshape(-1,1)\n",
    "model = linear_model.LinearRegression()\n",
    "model.fit(features_train, label_train)\n",
    "a= (mean(features_train)*mean(label_train)-mean(features_train*label_train)) / (mean(features_train)**2 - mean(features_train**2))\n",
    "b = mean(label_train) - a*mean(features_train)\n",
    "print(a,b)"
   ]
  },
  {
   "cell_type": "code",
   "execution_count": 174,
   "metadata": {},
   "outputs": [],
   "source": [
    "def Predictppm(year):\n",
    "    data = np.array([year])  \n",
    "    calculation = model.predict([data])\n",
    "    return calculation[0]"
   ]
  },
  {
   "cell_type": "code",
   "execution_count": 175,
   "metadata": {},
   "outputs": [],
   "source": [
    "def Predictppm2(year):\n",
    "    data = np.column_stack([year])\n",
    "    print(data)\n",
    "    calculation = model.predict(data).tolist()\n",
    "    return calculation[0]"
   ]
  },
  {
   "cell_type": "code",
   "execution_count": 176,
   "metadata": {},
   "outputs": [
    {
     "name": "stdout",
     "output_type": "stream",
     "text": [
      "[[2050]]\n"
     ]
    },
    {
     "data": {
      "text/plain": [
       "[449.9059233924877]"
      ]
     },
     "execution_count": 176,
     "metadata": {},
     "output_type": "execute_result"
    }
   ],
   "source": [
    "Predictppm2(2050)"
   ]
  },
  {
   "cell_type": "code",
   "execution_count": 177,
   "metadata": {
    "scrolled": false
   },
   "outputs": [
    {
     "data": {
      "text/plain": [
       "<function matplotlib.pyplot.show(*args, **kw)>"
      ]
     },
     "execution_count": 177,
     "metadata": {},
     "output_type": "execute_result"
    },
    {
     "data": {
      "image/png": "[encoded data removed]",
      "text/plain": [
       "<Figure size 432x288 with 1 Axes>"
      ]
     },
     "metadata": {
      "needs_background": "light"
     },
     "output_type": "display_data"
    }
   ],
   "source": [
    "d = np.array([min(features_test), max(features_test)])\n",
    "f = lambda k: 1.5454799112203481*k + (-2718.9336825949226) \n",
    "\n",
    "plot.scatter(features_test, label_test)\n",
    "\n",
    "plot.ylabel('CO2ppm')\n",
    "plot.xlabel('Years')\n",
    "plot.scatter(2030,a*2030+b,color='red')\n",
    "plot.scatter(2050,[a*2050+b],color='red')\n",
    "plot.plot([min(features_test), 2050], f(d), c=\"orange\")\n",
    "plot.show\n"
   ]
  },
  {
   "cell_type": "code",
   "execution_count": 178,
   "metadata": {},
   "outputs": [],
   "source": [
    "connection.deploy(\"CO2Prediction\", Predictppm2,\n",
    "                 \"Returns predicted CO2ppm that year\",\n",
    "                 override=True)"
   ]
  },
  {
   "cell_type": "code",
   "execution_count": 179,
   "metadata": {},
   "outputs": [
    {
     "data": {
      "text/plain": [
       "{'response': [527.3234401578829],\n",
       " 'version': 21,\n",
       " 'model': 'CO2Prediction',\n",
       " 'uuid': 'f0eeb34c-3b5b-4414-9edd-6db83b4415fd'}"
      ]
     },
     "execution_count": 179,
     "metadata": {},
     "output_type": "execute_result"
    }
   ],
   "source": [
    "client.query(\"CO2Prediction\",2100)"
   ]
  },
  {
   "cell_type": "code",
   "execution_count": null,
   "metadata": {},
   "outputs": [],
   "source": []
  },
  {
   "cell_type": "code",
   "execution_count": null,
   "metadata": {},
   "outputs": [],
   "source": []
  },
  {
   "cell_type": "code",
   "execution_count": null,
   "metadata": {},
   "outputs": [],
   "source": []
  }
 ],
 "metadata": {
  "kernelspec": {
   "display_name": "Python 3",
   "language": "python",
   "name": "python3"
  },
  "language_info": {
   "codemirror_mode": {
    "name": "ipython",
    "version": 3
   },
   "file_extension": ".py",
   "mimetype": "text/x-python",
   "name": "python",
   "nbconvert_exporter": "python",
   "pygments_lexer": "ipython3",
   "version": "3.7.7"
  }
 },
 "nbformat": 4,
 "nbformat_minor": 4
}
