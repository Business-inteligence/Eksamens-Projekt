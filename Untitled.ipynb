{
 "cells": [
  {
   "cell_type": "code",
   "execution_count": 1,
   "metadata": {},
   "outputs": [
    {
     "name": "stdout",
     "output_type": "stream",
     "text": [
      "Collecting ibm-watson\n",
      "  Downloading ibm-watson-5.0.0.tar.gz (381 kB)\n",
      "Requirement already satisfied, skipping upgrade: requests<3.0,>=2.0 in c:\\programdata\\anaconda3\\lib\\site-packages (from ibm-watson) (2.24.0)\n",
      "Requirement already satisfied, skipping upgrade: python_dateutil>=2.5.3 in c:\\programdata\\anaconda3\\lib\\site-packages (from ibm-watson) (2.8.1)\n",
      "Collecting websocket-client==0.48.0\n",
      "  Downloading websocket_client-0.48.0-py2.py3-none-any.whl (198 kB)\n",
      "Collecting ibm_cloud_sdk_core==1.7.3\n",
      "  Downloading ibm-cloud-sdk-core-1.7.3.tar.gz (27 kB)\n",
      "Requirement already satisfied, skipping upgrade: chardet<4,>=3.0.2 in c:\\programdata\\anaconda3\\lib\\site-packages (from requests<3.0,>=2.0->ibm-watson) (3.0.4)\n",
      "Requirement already satisfied, skipping upgrade: certifi>=2017.4.17 in c:\\programdata\\anaconda3\\lib\\site-packages (from requests<3.0,>=2.0->ibm-watson) (2020.6.20)\n",
      "Requirement already satisfied, skipping upgrade: idna<3,>=2.5 in c:\\programdata\\anaconda3\\lib\\site-packages (from requests<3.0,>=2.0->ibm-watson) (2.10)\n",
      "Requirement already satisfied, skipping upgrade: urllib3!=1.25.0,!=1.25.1,<1.26,>=1.21.1 in c:\\programdata\\anaconda3\\lib\\site-packages (from requests<3.0,>=2.0->ibm-watson) (1.25.9)\n",
      "Requirement already satisfied, skipping upgrade: six>=1.5 in c:\\programdata\\anaconda3\\lib\\site-packages (from python_dateutil>=2.5.3->ibm-watson) (1.15.0)\n",
      "Collecting PyJWT>=1.7.1\n",
      "  Downloading PyJWT-1.7.1-py2.py3-none-any.whl (18 kB)\n",
      "Building wheels for collected packages: ibm-watson, ibm-cloud-sdk-core\n",
      "  Building wheel for ibm-watson (setup.py): started\n",
      "  Building wheel for ibm-watson (setup.py): finished with status 'done'\n",
      "  Created wheel for ibm-watson: filename=ibm_watson-5.0.0-py3-none-any.whl size=375167 sha256=652428dbced96c8d8580ead22a90e25a46081169ce6a7c1b0e9344f187bbd930\n",
      "  Stored in directory: c:\\users\\andreas\\appdata\\local\\pip\\cache\\wheels\\41\\c5\\66\\3345ab09dddd48e8ce1dddca693a35c32d3ccbf2c1c469f8c3\n",
      "  Building wheel for ibm-cloud-sdk-core (setup.py): started\n",
      "  Building wheel for ibm-cloud-sdk-core (setup.py): finished with status 'done'\n",
      "  Created wheel for ibm-cloud-sdk-core: filename=ibm_cloud_sdk_core-1.7.3-py3-none-any.whl size=45948 sha256=cff7dfe9754d904eecc051e5f2b67c466598efda22d4e94cb14d771a03d275db\n",
      "  Stored in directory: c:\\users\\andreas\\appdata\\local\\pip\\cache\\wheels\\c6\\5f\\fb\\c2daef3706ded7e718641a60d097be3116a6b70a8f236753f2\n",
      "Successfully built ibm-watson ibm-cloud-sdk-core\n",
      "Installing collected packages: websocket-client, PyJWT, ibm-cloud-sdk-core, ibm-watson\n",
      "Successfully installed PyJWT-1.7.1 ibm-cloud-sdk-core-1.7.3 ibm-watson-5.0.0 websocket-client-0.48.0\n",
      "Note: you may need to restart the kernel to use updated packages.\n"
     ]
    },
    {
     "name": "stderr",
     "output_type": "stream",
     "text": [
      "WARNING: You are using pip version 20.2.4; however, version 20.3.1 is available.\n",
      "You should consider upgrading via the 'C:\\ProgramData\\Anaconda3\\python.exe -m pip install --upgrade pip' command.\n"
     ]
    }
   ],
   "source": [
    "pip install --upgrade ibm-watson"
   ]
  },
  {
   "cell_type": "code",
   "execution_count": 3,
   "metadata": {},
   "outputs": [
    {
     "name": "stdout",
     "output_type": "stream",
     "text": [
      "Collecting watson-developer-cloud\n",
      "  Downloading watson-developer-cloud-2.10.1.tar.gz (248 kB)\n",
      "Requirement already satisfied, skipping upgrade: requests<3.0,>=2.0 in c:\\programdata\\anaconda3\\lib\\site-packages (from watson-developer-cloud) (2.24.0)\n",
      "Requirement already satisfied, skipping upgrade: python_dateutil>=2.5.3 in c:\\programdata\\anaconda3\\lib\\site-packages (from watson-developer-cloud) (2.8.1)\n",
      "Requirement already satisfied, skipping upgrade: websocket-client==0.48.0 in c:\\programdata\\anaconda3\\lib\\site-packages (from watson-developer-cloud) (0.48.0)\n",
      "Requirement already satisfied, skipping upgrade: urllib3!=1.25.0,!=1.25.1,<1.26,>=1.21.1 in c:\\programdata\\anaconda3\\lib\\site-packages (from requests<3.0,>=2.0->watson-developer-cloud) (1.25.9)\n",
      "Requirement already satisfied, skipping upgrade: idna<3,>=2.5 in c:\\programdata\\anaconda3\\lib\\site-packages (from requests<3.0,>=2.0->watson-developer-cloud) (2.10)\n",
      "Requirement already satisfied, skipping upgrade: certifi>=2017.4.17 in c:\\programdata\\anaconda3\\lib\\site-packages (from requests<3.0,>=2.0->watson-developer-cloud) (2020.6.20)\n",
      "Requirement already satisfied, skipping upgrade: chardet<4,>=3.0.2 in c:\\programdata\\anaconda3\\lib\\site-packages (from requests<3.0,>=2.0->watson-developer-cloud) (3.0.4)\n",
      "Requirement already satisfied, skipping upgrade: six>=1.5 in c:\\programdata\\anaconda3\\lib\\site-packages (from python_dateutil>=2.5.3->watson-developer-cloud) (1.15.0)\n",
      "Building wheels for collected packages: watson-developer-cloud\n",
      "  Building wheel for watson-developer-cloud (setup.py): started\n",
      "  Building wheel for watson-developer-cloud (setup.py): finished with status 'done'\n",
      "  Created wheel for watson-developer-cloud: filename=watson_developer_cloud-2.10.1-py3-none-any.whl size=252817 sha256=1028d9541828a4a40cd65bae8f7826a225fd66e6c4aecde087540f299ef106fe\n",
      "  Stored in directory: c:\\users\\andreas\\appdata\\local\\pip\\cache\\wheels\\45\\68\\30\\690e59503415433f536c00ef66656a1aa045e927a2ad6ab7fc\n",
      "Successfully built watson-developer-cloud\n",
      "Installing collected packages: watson-developer-cloud\n",
      "Successfully installed watson-developer-cloud-2.10.1\n",
      "Note: you may need to restart the kernel to use updated packages.\n"
     ]
    },
    {
     "name": "stderr",
     "output_type": "stream",
     "text": [
      "WARNING: You are using pip version 20.2.4; however, version 20.3.1 is available.\n",
      "You should consider upgrading via the 'C:\\ProgramData\\Anaconda3\\python.exe -m pip install --upgrade pip' command.\n"
     ]
    }
   ],
   "source": [
    "pip install --upgrade watson-developer-cloud"
   ]
  },
  {
   "cell_type": "code",
   "execution_count": null,
   "metadata": {},
   "outputs": [],
   "source": []
  }
 ],
 "metadata": {
  "kernelspec": {
   "display_name": "Python 3",
   "language": "python",
   "name": "python3"
  },
  "language_info": {
   "codemirror_mode": {
    "name": "ipython",
    "version": 3
   },
   "file_extension": ".py",
   "mimetype": "text/x-python",
   "name": "python",
   "nbconvert_exporter": "python",
   "pygments_lexer": "ipython3",
   "version": "3.7.7"
  }
 },
 "nbformat": 4,
 "nbformat_minor": 4
}
